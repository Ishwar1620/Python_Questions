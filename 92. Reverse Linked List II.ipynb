{
 "cells": [
  {
   "cell_type": "markdown",
   "id": "f3909b1a-8630-4ef5-b788-9cb2a8572e64",
   "metadata": {},
   "source": [
    "[Problem Statement](https://leetcode.com/problems/reverse-linked-list-ii/description/)\n",
    "<b> Category MEDIUM <b>"
   ]
  },
  {
   "cell_type": "code",
   "execution_count": null,
   "id": "7bff086d-0b40-46e3-bac2-7947bf941af8",
   "metadata": {},
   "outputs": [],
   "source": [
    "# Definition for singly-linked list.\n",
    "# class ListNode:\n",
    "#     def __init__(self, val=0, next=None):\n",
    "#         self.val = val\n",
    "#         self.next = next\n",
    "class Solution:\n",
    "    def reverseBetween(self, head: Optional[ListNode], left: int, right: int) -> Optional[ListNode]:\n",
    "        hash_map ={}\n",
    "        curr = head\n",
    "        i=1\n",
    "        if head.next == None:\n",
    "            return head\n",
    "        if left == right:\n",
    "            return head\n",
    "        while curr:\n",
    "            hash_map[i] = curr\n",
    "            curr = curr.next\n",
    "            i+=1\n",
    "        j=left\n",
    "        k=[i.val for i in hash_map.values()]\n",
    "        for i in range(right,left-1,-1):\n",
    "            hash_map[j].val = k[i-1]\n",
    "            j+=1\n",
    "        return head\n",
    "        "
   ]
  }
 ],
 "metadata": {
  "kernelspec": {
   "display_name": "Python 3 (ipykernel)",
   "language": "python",
   "name": "python3"
  },
  "language_info": {
   "codemirror_mode": {
    "name": "ipython",
    "version": 3
   },
   "file_extension": ".py",
   "mimetype": "text/x-python",
   "name": "python",
   "nbconvert_exporter": "python",
   "pygments_lexer": "ipython3",
   "version": "3.10.13"
  }
 },
 "nbformat": 4,
 "nbformat_minor": 5
}
