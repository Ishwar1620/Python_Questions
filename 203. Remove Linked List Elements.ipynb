{
 "cells": [
  {
   "cell_type": "markdown",
   "id": "2600edce-647d-4ca9-8eb2-6c4cdf235832",
   "metadata": {},
   "source": [
    "[Problem Statement](https://leetcode.com/problems/linked-list-components/description/)\n",
    "<b> Catrgory EASY <b>"
   ]
  },
  {
   "cell_type": "code",
   "execution_count": null,
   "id": "a12ed4d2-7688-4bd2-9afa-91f4ba792388",
   "metadata": {},
   "outputs": [],
   "source": [
    "# Definition for singly-linked list.\n",
    "# class ListNode:\n",
    "#     def __init__(self, val=0, next=None):\n",
    "#         self.val = val\n",
    "#         self.next = next\n",
    "class Solution:\n",
    "    def removeElements(self, head: Optional[ListNode], val: int) -> Optional[ListNode]:\n",
    "        while head and head.val == val:\n",
    "            head = head.next\n",
    "        curr =head\n",
    "        prev = None\n",
    "        while curr:\n",
    "            if curr.val == val:\n",
    "                prev.next = curr.next\n",
    "            else:\n",
    "                prev = curr\n",
    "            curr =curr.next\n",
    "        return head"
   ]
  }
 ],
 "metadata": {
  "kernelspec": {
   "display_name": "Python 3 (ipykernel)",
   "language": "python",
   "name": "python3"
  },
  "language_info": {
   "codemirror_mode": {
    "name": "ipython",
    "version": 3
   },
   "file_extension": ".py",
   "mimetype": "text/x-python",
   "name": "python",
   "nbconvert_exporter": "python",
   "pygments_lexer": "ipython3",
   "version": "3.10.13"
  }
 },
 "nbformat": 4,
 "nbformat_minor": 5
}
