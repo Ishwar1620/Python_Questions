{
 "cells": [
  {
   "cell_type": "markdown",
   "id": "0b1cfb21-881b-4c4c-a9bc-a4bc6641b078",
   "metadata": {},
   "source": [
    "[Problem Statement](https://leetcode.com/problems/remove-nodes-from-linked-list/description/)\n",
    "<b> Category MEDIUM <b>"
   ]
  },
  {
   "cell_type": "markdown",
   "id": "80653118-f035-449f-8bd9-dbdb0526a859",
   "metadata": {},
   "source": [
    "<b> Solution <b>"
   ]
  },
  {
   "cell_type": "code",
   "execution_count": null,
   "id": "d91ee728-c066-4de0-a4ee-60a61d43339e",
   "metadata": {},
   "outputs": [],
   "source": [
    "class Solution:\n",
    "    def removeNodes(self, head: Optional[ListNode]) -> Optional[ListNode]:\n",
    "        final = []\n",
    "        stack = []\n",
    "        curr = head\n",
    "        while curr:\n",
    "            stack.append(curr)\n",
    "            curr = curr.next \n",
    "        last = stack.pop()\n",
    "        final.append(last)\n",
    "        while stack:\n",
    "            ele = stack.pop()\n",
    "            if ele.val >= last.val:\n",
    "                final.append(ele)\n",
    "                ele.next = last\n",
    "                last = ele\n",
    "            else:\n",
    "                continue\n",
    "        final=final[::-1]\n",
    "        head = final[0]\n",
    "        return head "
   ]
  }
 ],
 "metadata": {
  "kernelspec": {
   "display_name": "Python 3 (ipykernel)",
   "language": "python",
   "name": "python3"
  },
  "language_info": {
   "codemirror_mode": {
    "name": "ipython",
    "version": 3
   },
   "file_extension": ".py",
   "mimetype": "text/x-python",
   "name": "python",
   "nbconvert_exporter": "python",
   "pygments_lexer": "ipython3",
   "version": "3.10.13"
  }
 },
 "nbformat": 4,
 "nbformat_minor": 5
}
