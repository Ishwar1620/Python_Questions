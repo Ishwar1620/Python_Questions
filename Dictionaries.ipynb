{
 "cells": [
  {
   "cell_type": "markdown",
   "id": "4a057d36-715a-4043-90f2-6043aab241f6",
   "metadata": {},
   "source": [
    "<b>Below are the two lists. Write a Python program to convert them into a dictionary in a way that item from list1 is the key and item from list2 is the value\n",
    "\n",
    "keys = ['Ten', 'Twenty', 'Thirty']\n",
    "values = [10, 20, 30]\n",
    "\n",
    "Expected output:\n",
    "\n",
    "{'Ten': 10, 'Twenty': 20, 'Thirty': 30}"
   ]
  },
  {
   "cell_type": "code",
   "execution_count": 11,
   "id": "594a1a84-4fc0-403e-bf2c-8df4a82547b2",
   "metadata": {},
   "outputs": [
    {
     "data": {
      "text/plain": [
       "{'Ten': 10, 'Twenty': 20, 'Thirty': 30}"
      ]
     },
     "execution_count": 11,
     "metadata": {},
     "output_type": "execute_result"
    }
   ],
   "source": [
    "keys = ['Ten', 'Twenty', 'Thirty']\n",
    "values = [10, 20, 30]\n",
    "d=dict(zip(keys,values))\n",
    "d"
   ]
  },
  {
   "cell_type": "code",
   "execution_count": 12,
   "id": "e7887609-9fbd-4702-a2a7-ba75d864daca",
   "metadata": {},
   "outputs": [
    {
     "data": {
      "text/plain": [
       "{'Ten': 10, 'Twenty': 20, 'Thirty': 30}"
      ]
     },
     "execution_count": 12,
     "metadata": {},
     "output_type": "execute_result"
    }
   ],
   "source": [
    "k=dict()\n",
    "for i in range(len(keys)):\n",
    "    k.update({keys[i]:values[i]})\n",
    "k"
   ]
  },
  {
   "cell_type": "markdown",
   "id": "5e6cb910-e60d-4f84-b407-e60df795c552",
   "metadata": {},
   "source": [
    "<b>Exercise 3: Print the value of key ‘history’ from the below dict"
   ]
  },
  {
   "cell_type": "code",
   "execution_count": 33,
   "id": "9e3f4eb9-c9ff-4e33-addf-5469151bf0b5",
   "metadata": {
    "scrolled": true
   },
   "outputs": [
    {
     "data": {
      "text/plain": [
       "80"
      ]
     },
     "execution_count": 33,
     "metadata": {},
     "output_type": "execute_result"
    }
   ],
   "source": [
    "sampleDict = {\n",
    "    \"class\": {\n",
    "        \"student\": {\n",
    "            \"name\": \"Mike\",\n",
    "            \"marks\": {\n",
    "                \"physics\": 70,\n",
    "                \"history\": 80\n",
    "            }\n",
    "        }\n",
    "    }\n",
    "}\n",
    "sampleDict.get('class').get('student').get('marks').get('history')"
   ]
  },
  {
   "cell_type": "markdown",
   "id": "17720ee4-2117-4509-9b0d-4079eebd5075",
   "metadata": {},
   "source": [
    "<b>Exercise 4: Initialize dictionary with default values"
   ]
  },
  {
   "cell_type": "code",
   "execution_count": 5,
   "id": "60d64fef-1e3d-459e-bc77-94cc2aeeecf4",
   "metadata": {},
   "outputs": [
    {
     "data": {
      "text/plain": [
       "{'Kelly': {'designation': 'Developer', 'salary': 8000},\n",
       " 'Emma': {'designation': 'Developer', 'salary': 8000}}"
      ]
     },
     "execution_count": 5,
     "metadata": {},
     "output_type": "execute_result"
    }
   ],
   "source": [
    "employees = ['Kelly', 'Emma']\n",
    "defaults = {\"designation\": 'Developer', \"salary\": 8000}\n",
    "d=dict.fromkeys(employees,defaults)\n",
    "d"
   ]
  },
  {
   "cell_type": "markdown",
   "id": "ff12421a-f5a0-460e-888a-4a82c47f271c",
   "metadata": {},
   "source": [
    "<b>Exercise 6: Delete a list of keys from a dictionary"
   ]
  },
  {
   "cell_type": "code",
   "execution_count": 10,
   "id": "5586f316-474c-4dff-bc0a-ed1e69eb7b3d",
   "metadata": {},
   "outputs": [
    {
     "data": {
      "text/plain": [
       "{'age': 25, 'city': 'New York'}"
      ]
     },
     "execution_count": 10,
     "metadata": {},
     "output_type": "execute_result"
    }
   ],
   "source": [
    "sample_dict={\n",
    "    \"name\":\"Kelly\",\n",
    "    \"age\":25,\n",
    "    \"salary\":50000,\n",
    "    \"city\": \"New York\"\n",
    "}\n",
    "\n",
    "keys=[\"name\",\"salary\"]\n",
    "for i in range(len(keys)):\n",
    "    sample_dict.pop(keys[i])\n",
    "sample_dict"
   ]
  },
  {
   "cell_type": "markdown",
   "id": "10b376e1-8536-4a1b-9662-9b5922f070c4",
   "metadata": {},
   "source": [
    "<b>Exercise 7: Check if a value exists in a dictionary\n",
    "We know how to check if the key exists in a dictionary. Sometimes it is required to check if the given value is present.\n",
    "\n",
    "Write a Python program to check if value 200 exists in the following dictionary.\n",
    "\n",
    "Given:\n",
    "\n",
    "sample_dict = {'a': 100, 'b': 200, 'c': 300}\n",
    "Expected output:\n",
    "\n",
    "200 present in a dict"
   ]
  },
  {
   "cell_type": "code",
   "execution_count": 31,
   "id": "905d43ea-3110-4c50-af77-053a2e63f129",
   "metadata": {},
   "outputs": [
    {
     "name": "stdout",
     "output_type": "stream",
     "text": [
      "200 is present in dict\n"
     ]
    }
   ],
   "source": [
    "sample_dict={'a':100,'b':200,'c':300}\n",
    "if 200 in sample_dict.values():\n",
    "        print(\"200 is present in dict\")\n",
    "    "
   ]
  },
  {
   "cell_type": "markdown",
   "id": "91445d78-3991-4c61-bb04-2322b6352eeb",
   "metadata": {},
   "source": [
    "<b>Exercise 8: Rename key of a dictionary Write a program to rename a key city to a location in the following dictionary."
   ]
  },
  {
   "cell_type": "code",
   "execution_count": null,
   "id": "a965e06c-b5d2-424a-8256-578452342757",
   "metadata": {},
   "outputs": [],
   "source": [
    "sample_dict={\n",
    "    \"name\":\"kelly\",\n",
    "    \"age\":25,\n",
    "    \"salary\":50000,\n",
    "    \"city\":\"New York\"\n",
    "}\n",
    "sample_dict.pop('city')\n",
    "sample_dict.update({\"location\":\"New York\"})\n",
    "sample_dict"
   ]
  },
  {
   "cell_type": "markdown",
   "id": "4db64811-3c31-4e54-a9ab-fdf5b7b26f01",
   "metadata": {},
   "source": [
    "<b>Exercise 9: Get the key of a minimum value from the following dictionary"
   ]
  },
  {
   "cell_type": "code",
   "execution_count": 61,
   "id": "3b87cc38-0053-4c92-bf5b-0f5b6a0d04a0",
   "metadata": {},
   "outputs": [
    {
     "data": {
      "text/plain": [
       "'Math'"
      ]
     },
     "execution_count": 61,
     "metadata": {},
     "output_type": "execute_result"
    }
   ],
   "source": [
    "sample_dict={\n",
    "  'Physics': 82,\n",
    "  'Math': 65,\n",
    "  'history': 75\n",
    "}\n",
    "min(list(sample_dict.keys()))\n",
    "#2\n",
    "min(sample_dict, key=sample_dict.get)"
   ]
  },
  {
   "cell_type": "markdown",
   "id": "04faa861-e87b-45b5-8c2d-0eea8b30db80",
   "metadata": {},
   "source": [
    "<b>Exercise 10: Change value of a key in a nested dictionary\n",
    "Write a Python program to change Brad’s salary to 8500 in the following dictionary."
   ]
  },
  {
   "cell_type": "code",
   "execution_count": 68,
   "id": "e9e6dafb-fc3e-4ec8-93bb-bc8e092c041d",
   "metadata": {},
   "outputs": [
    {
     "data": {
      "text/plain": [
       "{'emp1': {'name': 'Jhon', 'salary': 7500},\n",
       " 'emp2': {'name': 'Emma', 'salary': 8000},\n",
       " 'emp3': {'name': 'Brad', 'salary': 8500}}"
      ]
     },
     "execution_count": 68,
     "metadata": {},
     "output_type": "execute_result"
    }
   ],
   "source": [
    "sample_dict = {\n",
    "    'emp1': {'name': 'Jhon', 'salary': 7500},\n",
    "    'emp2': {'name': 'Emma', 'salary': 8000},\n",
    "    'emp3': {'name': 'Brad', 'salary': 500}\n",
    "}\n",
    "sample_dict['emp3']['salary']=8500\n",
    "sample_dict"
   ]
  },
  {
   "cell_type": "markdown",
   "id": "209d83f2-7c5a-4b2b-a5b7-21ccf95279c4",
   "metadata": {},
   "source": [
    "<b>1. Nested Dictionary Manipulation\n",
    "You have the following dictionary structure:\n",
    "\n",
    "data = {\n",
    "    'students': {\n",
    "        'Alice': {'math': 85, 'science': 92},\n",
    "        'Bob': {'math': 78, 'science': 89},\n",
    "        'Carol': {'math': 92, 'science': 87}\n",
    "    }\n",
    "}\n",
    "Write code to calculate the average score of each subject across all students.\n",
    "Find the student with the highest score in science."
   ]
  },
  {
   "cell_type": "code",
   "execution_count": 109,
   "id": "4fbb3706-52a3-4afb-9095-0755f7bf430d",
   "metadata": {},
   "outputs": [
    {
     "name": "stdout",
     "output_type": "stream",
     "text": [
      "{'math': 85.0, 'science': 89.33333333333333}\n"
     ]
    },
    {
     "data": {
      "text/plain": [
       "'Alice'"
      ]
     },
     "execution_count": 109,
     "metadata": {},
     "output_type": "execute_result"
    }
   ],
   "source": [
    "data = {\n",
    "    'students': {\n",
    "        'Alice': {'math': 85, 'science': 92},\n",
    "        'Bob': {'math': 78, 'science': 89},\n",
    "        'Carol': {'math': 92, 'science': 87}\n",
    "    }\n",
    "}\n",
    "average_score={}\n",
    "for subject in data[\"students\"]['Alice']:\n",
    "    average_score[subject]=sum(student[subject] for student in data[\"students\"].values())/len(data['students'])\n",
    "\n",
    "print(average_score) \n",
    "\n",
    "max(data['students'],key=lambda x: data['students'][x]['science'])"
   ]
  },
  {
   "cell_type": "markdown",
   "id": "dccbe52e-d5a4-4b87-aa54-18fbff8a6b67",
   "metadata": {},
   "source": [
    "<b>2. Dictionary Comprehensions\n",
    "Given a dictionary of words and their definitions:\n",
    "\n",
    "python\n",
    "Copy code\n",
    "words = {\n",
    "    'mutable': 'liable to change',\n",
    "    'immutable': 'unchangeable',\n",
    "    'enumerate': 'mention separately as if in counting',\n",
    "    'comprehension': 'the act of understanding'\n",
    "}\n",
    "Use a dictionary comprehension to create a new dictionary with only the words that contain the letter 'e'.\n",
    "Create a dictionary with the lengths of each word as values instead of their definitions.\n"
   ]
  },
  {
   "cell_type": "code",
   "execution_count": 115,
   "id": "47ccadac-bf7f-4307-b83b-50eac1b55e95",
   "metadata": {},
   "outputs": [
    {
     "name": "stdout",
     "output_type": "stream",
     "text": [
      "{'mutable': 'liable to change', 'immutable': 'unchangeable', 'enumerate': 'mention separately as if in counting', 'comprehension': 'the act of understanding'}\n",
      "{'mutable': 7, 'immutable': 9, 'enumerate': 9, 'comprehension': 13}\n"
     ]
    }
   ],
   "source": [
    "words = {\n",
    "    'mutable': 'liable to change',\n",
    "    'immutable': 'unchangeable',\n",
    "    'enumerate': 'mention separately as if in counting',\n",
    "    'comprehension': 'the act of understanding'\n",
    "}\n",
    "#k={}\n",
    "#for name in words.keys():\n",
    "#    if \"e\" in name:\n",
    "#        k.update({name:len(name)})\n",
    "#k\n",
    "w_e={word: definations for word,definations in words.items() if 'e' in word}\n",
    "w_l={word: len(word) for word in words}\n",
    "print(w_e)\n",
    "print(w_l)"
   ]
  },
  {
   "cell_type": "markdown",
   "id": "01d9627c-8927-4b78-9975-0b31f9276829",
   "metadata": {},
   "source": [
    "<b>3. Sorting Dictionaries\n",
    "Given a dictionary with product prices:\n",
    "\n",
    "python\n",
    "Copy code\n",
    "prices = {\n",
    "    'apple': 2.99,\n",
    "    'banana': 1.29,\n",
    "    'cherry': 4.99,\n",
    "    'date': 3.49\n",
    "}\n",
    "Write code to sort the dictionary by price in ascending order.\n",
    "Sort the dictionary by the product name in descending order."
   ]
  },
  {
   "cell_type": "code",
   "execution_count": null,
   "id": "87d5a420-032b-46f2-9491-b485f2a54ca9",
   "metadata": {},
   "outputs": [],
   "source": [
    "prices = {\n",
    "    'apple': 2.99,\n",
    "    'banana': 1.29,\n",
    "    'cherry': 4.99,\n",
    "    'date': 3.49\n",
    "}\n"
   ]
  }
 ],
 "metadata": {
  "kernelspec": {
   "display_name": "Python 3 (ipykernel)",
   "language": "python",
   "name": "python3"
  },
  "language_info": {
   "codemirror_mode": {
    "name": "ipython",
    "version": 3
   },
   "file_extension": ".py",
   "mimetype": "text/x-python",
   "name": "python",
   "nbconvert_exporter": "python",
   "pygments_lexer": "ipython3",
   "version": "3.8.13"
  }
 },
 "nbformat": 4,
 "nbformat_minor": 5
}
