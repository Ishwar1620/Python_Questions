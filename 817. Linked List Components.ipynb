{
 "cells": [
  {
   "cell_type": "markdown",
   "id": "50bf01dc-0091-42a5-a4dc-d8f40c9b1f17",
   "metadata": {},
   "source": [
    "[Problem Statement](https://leetcode.com/problems/linked-list-components/description/)\n",
    "<b> Category MEDIUM <b>"
   ]
  },
  {
   "cell_type": "code",
   "execution_count": null,
   "id": "0acc2e0f-69b9-4153-ab89-94d540790e7c",
   "metadata": {},
   "outputs": [],
   "source": [
    "# Definition for singly-linked list.\n",
    "# class ListNode:\n",
    "#     def __init__(self, val=0, next=None):\n",
    "#         self.val = val\n",
    "#         self.next = next\n",
    "import math\n",
    "class Solution:\n",
    "    def numComponents(self, head: Optional[ListNode], nums: List[int]) -> int:\n",
    "        np =0 \n",
    "        cnt=0\n",
    "        curr = head\n",
    "        nums = set(nums)\n",
    "        k= len(nums)\n",
    "        while curr:\n",
    "            if curr.next != None and curr.val in nums:\n",
    "                np+=1\n",
    "                curr = curr.next\n",
    "            elif curr.next == None and curr.val in nums:\n",
    "                np +=1\n",
    "                cnt += math.ceil((np/k))\n",
    "                break\n",
    "            else:\n",
    "                cnt += math.ceil((np/k))\n",
    "                np = 0\n",
    "                curr = curr.next\n",
    "            \n",
    "        return cnt"
   ]
  }
 ],
 "metadata": {
  "kernelspec": {
   "display_name": "Python 3 (ipykernel)",
   "language": "python",
   "name": "python3"
  },
  "language_info": {
   "codemirror_mode": {
    "name": "ipython",
    "version": 3
   },
   "file_extension": ".py",
   "mimetype": "text/x-python",
   "name": "python",
   "nbconvert_exporter": "python",
   "pygments_lexer": "ipython3",
   "version": "3.10.13"
  }
 },
 "nbformat": 4,
 "nbformat_minor": 5
}
