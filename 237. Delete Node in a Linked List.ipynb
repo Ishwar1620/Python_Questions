{
 "cells": [
  {
   "cell_type": "markdown",
   "id": "9e96904e-1e30-49b6-ab8f-49aa3e12ed78",
   "metadata": {},
   "source": [
    "[Problem Statement](https://leetcode.com/problems/delete-node-in-a-linked-list/description/)\n",
    "<b> Category MEDIUM <b>"
   ]
  },
  {
   "cell_type": "markdown",
   "id": "2ff17a7f-9b07-4fda-a5c7-84153af357a6",
   "metadata": {},
   "source": [
    "<b> Solution <b>"
   ]
  },
  {
   "cell_type": "code",
   "execution_count": null,
   "id": "57cd9403-74f4-4e6d-9c65-be0f36ab93de",
   "metadata": {},
   "outputs": [],
   "source": [
    "class Solution:\n",
    "    def deleteNode(self, node):\n",
    "        \"\"\"\n",
    "        :type node: ListNode\n",
    "        :rtype: void Do not return anything, modify node in-place instead.\n",
    "        \"\"\"\n",
    "        node.val = node.next.val\n",
    "        node.next = node.next.next"
   ]
  }
 ],
 "metadata": {
  "kernelspec": {
   "display_name": "Python 3 (ipykernel)",
   "language": "python",
   "name": "python3"
  },
  "language_info": {
   "codemirror_mode": {
    "name": "ipython",
    "version": 3
   },
   "file_extension": ".py",
   "mimetype": "text/x-python",
   "name": "python",
   "nbconvert_exporter": "python",
   "pygments_lexer": "ipython3",
   "version": "3.10.13"
  }
 },
 "nbformat": 4,
 "nbformat_minor": 5
}
